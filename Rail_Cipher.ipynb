{
 "cells": [
  {
   "cell_type": "code",
   "execution_count": 22,
   "id": "8eebed43",
   "metadata": {},
   "outputs": [
    {
     "name": "stdout",
     "output_type": "stream",
     "text": [
      "Hoseh peel!I vrtigi lc.l eynna\n",
      "Hello! Is everything in place.\n"
     ]
    }
   ],
   "source": [
    "def encryptRailFence(text, key):\n",
    "    rail = [['\\n' for i in range(len(text))] for j in range(key)]\n",
    "    dir_down = None\n",
    "    row, col = 0, 0\n",
    "    for i in range(len(text)):\n",
    "    # reverse the direction if we've just\n",
    "    # filled the top or bottom rail\n",
    "        if row == 0:\n",
    "            dir_down = True\n",
    "        if row == key-1:\n",
    "            dir_down = False\n",
    "        rail[row][col] = text[i]\n",
    "        col += 1\n",
    "        if dir_down:\n",
    "            row += 1\n",
    "        else:\n",
    "            row -= 1\n",
    "\n",
    "    result = []\n",
    "    for i in range(key):\n",
    "        for j in range(len(text)):\n",
    "            if rail[i][j] != '\\n':\n",
    "                result.append(rail[i][j])\n",
    "    return(\"\" . join(result))\n",
    "\n",
    "\n",
    "def decryptRailFence(cipher, key):\n",
    "\n",
    "    rail = [['\\n' for i in range(len(cipher))] for j in range(key)]\n",
    "    dir_down = None\n",
    "    row, col = 0, 0\n",
    "    # mark the places with '*'\n",
    "    for i in range(len(cipher)):\n",
    "        if row == 0:\n",
    "            dir_down = True\n",
    "        if row == key-1:\n",
    "            dir_down = False\n",
    "        # place the marker\n",
    "        rail[row][col] = '*'\n",
    "        col += 1\n",
    "        \n",
    "        if dir_down:\n",
    "            row += 1\n",
    "        else:\n",
    "            row -= 1\n",
    "\n",
    "    index = 0\n",
    "    for i in range(key):\n",
    "        for j in range(len(cipher)):\n",
    "            if ((rail[i][j] == '*') and\n",
    "            (index < len(cipher))):\n",
    "                rail[i][j] = cipher[index]\n",
    "                index += 1\n",
    "\n",
    "    result = []\n",
    "    row, col = 0, 0\n",
    "    for i in range(len(cipher)):\n",
    "        \n",
    "        if row == 0:\n",
    "            dir_down = True\n",
    "        if row == key-1:\n",
    "            dir_down = False\n",
    "        # place the marker\n",
    "        if (rail[row][col] != '*'):\n",
    "            result.append(rail[row][col])\n",
    "            col += 1\n",
    "\n",
    "        if dir_down:\n",
    "            row += 1\n",
    "        else:\n",
    "            row -= 1\n",
    "    return(\"\".join(result))\n",
    "\n",
    "if __name__ == \"__main__\":\n",
    "    print(encryptRailFence(\"Hello! Is everything in place.\", 3))\n",
    "\n",
    "    print(decryptRailFence(\"Hoseh peel!I vrtigi lc.l eynna\", 3))"
   ]
  },
  {
   "cell_type": "code",
   "execution_count": null,
   "id": "02f02eb8",
   "metadata": {},
   "outputs": [],
   "source": []
  }
 ],
 "metadata": {
  "kernelspec": {
   "display_name": "Python 3 (ipykernel)",
   "language": "python",
   "name": "python3"
  },
  "language_info": {
   "codemirror_mode": {
    "name": "ipython",
    "version": 3
   },
   "file_extension": ".py",
   "mimetype": "text/x-python",
   "name": "python",
   "nbconvert_exporter": "python",
   "pygments_lexer": "ipython3",
   "version": "3.9.2"
  }
 },
 "nbformat": 4,
 "nbformat_minor": 5
}
